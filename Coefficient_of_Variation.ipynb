{
 "cells": [
  {
   "cell_type": "code",
   "execution_count": 1,
   "id": "edc03b26-0c2e-4b3f-a19c-cc48edef56bb",
   "metadata": {},
   "outputs": [],
   "source": [
    "import os \n",
    "import glob"
   ]
  },
  {
   "cell_type": "code",
   "execution_count": 2,
   "id": "9ca32111-5f21-45e8-a78e-ba9b4060c211",
   "metadata": {},
   "outputs": [],
   "source": [
    "import pandas as pd\n",
    "import nibabel as nb \n",
    "import numpy as np "
   ]
  },
  {
   "cell_type": "code",
   "execution_count": 3,
   "id": "f528dc70-5413-4965-b5d0-35204b46f50b",
   "metadata": {},
   "outputs": [],
   "source": [
    "# define paths \n",
    "d=\"output\" \n",
    "prefix=\"example__bs\"\n",
    "suffix=\"_est_parameter.nii.gz\"\n",
    "ext=\".nii.gz\""
   ]
  },
  {
   "cell_type": "code",
   "execution_count": 4,
   "id": "0b552396-0b75-4b33-a36f-36312aca1c81",
   "metadata": {},
   "outputs": [],
   "source": [
    "# get files \n",
    "files = glob.glob(d+\"/\"+prefix + \"*\" + suffix)\n",
    "assert files "
   ]
  },
  {
   "cell_type": "code",
   "execution_count": 7,
   "id": "e73c47da-f17b-44ca-bfa9-84ce9ae254d9",
   "metadata": {},
   "outputs": [],
   "source": [
    "# get segmentation (we compute CoV over one kidney) \n",
    "segf = \"seg_generated.nii.gz\"\n",
    "assert os.path.exists(segf)"
   ]
  },
  {
   "cell_type": "code",
   "execution_count": 8,
   "id": "82640b7c-4af0-4086-9151-c4785e26eeff",
   "metadata": {},
   "outputs": [],
   "source": [
    "# get all the labels \n",
    "seg = nb.load(segf).get_fdata()\n",
    "labels = np.unique(seg)\n",
    "labels = [l for l in labels if l!=0]"
   ]
  },
  {
   "cell_type": "code",
   "execution_count": 16,
   "id": "8e48d182-e8ec-4f8d-bd83-6c1aa684796f",
   "metadata": {},
   "outputs": [],
   "source": [
    "# create array to hold pandas dataframes\n",
    "dfs = []"
   ]
  },
  {
   "cell_type": "code",
   "execution_count": 17,
   "id": "c1d10b60-0361-478b-9cd9-e1c435608f9e",
   "metadata": {},
   "outputs": [],
   "source": [
    "# load files in numpy \n",
    "for label in labels:\n",
    "    for i, f in enumerate(sorted(files)): \n",
    "        # load file \n",
    "        im = nb.load(f).get_fdata()\n",
    "    \n",
    "        # select masked area\n",
    "        array = im[seg==label]\n",
    "\n",
    "    \n",
    "        # assign to pandas dataframe \n",
    "        df = pd.DataFrame({'parameter_value':array})\n",
    "        df = df.assign(label=label,iteration=i)\n",
    "        dfs.append(df)\n",
    "    \n",
    "    \n",
    "        "
   ]
  },
  {
   "cell_type": "code",
   "execution_count": 18,
   "id": "6db8fc49-70d9-419f-a275-dc415ab31556",
   "metadata": {},
   "outputs": [],
   "source": [
    "dfs = pd.concat(dfs)"
   ]
  },
  {
   "cell_type": "code",
   "execution_count": 19,
   "id": "86b28d3a-6813-491d-8f45-08bf22040abe",
   "metadata": {},
   "outputs": [
    {
     "data": {
      "text/html": [
       "<div>\n",
       "<style scoped>\n",
       "    .dataframe tbody tr th:only-of-type {\n",
       "        vertical-align: middle;\n",
       "    }\n",
       "\n",
       "    .dataframe tbody tr th {\n",
       "        vertical-align: top;\n",
       "    }\n",
       "\n",
       "    .dataframe thead th {\n",
       "        text-align: right;\n",
       "    }\n",
       "</style>\n",
       "<table border=\"1\" class=\"dataframe\">\n",
       "  <thead>\n",
       "    <tr style=\"text-align: right;\">\n",
       "      <th></th>\n",
       "      <th>parameter_value</th>\n",
       "      <th>label</th>\n",
       "      <th>iteration</th>\n",
       "    </tr>\n",
       "  </thead>\n",
       "  <tbody>\n",
       "    <tr>\n",
       "      <th>0</th>\n",
       "      <td>10.177619</td>\n",
       "      <td>1.0</td>\n",
       "      <td>0</td>\n",
       "    </tr>\n",
       "    <tr>\n",
       "      <th>1</th>\n",
       "      <td>-5.566085</td>\n",
       "      <td>1.0</td>\n",
       "      <td>0</td>\n",
       "    </tr>\n",
       "    <tr>\n",
       "      <th>2</th>\n",
       "      <td>-4.722335</td>\n",
       "      <td>1.0</td>\n",
       "      <td>0</td>\n",
       "    </tr>\n",
       "    <tr>\n",
       "      <th>3</th>\n",
       "      <td>-3.051506</td>\n",
       "      <td>1.0</td>\n",
       "      <td>0</td>\n",
       "    </tr>\n",
       "    <tr>\n",
       "      <th>4</th>\n",
       "      <td>-1.356475</td>\n",
       "      <td>1.0</td>\n",
       "      <td>0</td>\n",
       "    </tr>\n",
       "    <tr>\n",
       "      <th>...</th>\n",
       "      <td>...</td>\n",
       "      <td>...</td>\n",
       "      <td>...</td>\n",
       "    </tr>\n",
       "    <tr>\n",
       "      <th>2236411</th>\n",
       "      <td>-2.269283</td>\n",
       "      <td>1.0</td>\n",
       "      <td>9</td>\n",
       "    </tr>\n",
       "    <tr>\n",
       "      <th>2236412</th>\n",
       "      <td>3.366333</td>\n",
       "      <td>1.0</td>\n",
       "      <td>9</td>\n",
       "    </tr>\n",
       "    <tr>\n",
       "      <th>2236413</th>\n",
       "      <td>-5.883651</td>\n",
       "      <td>1.0</td>\n",
       "      <td>9</td>\n",
       "    </tr>\n",
       "    <tr>\n",
       "      <th>2236414</th>\n",
       "      <td>-7.386290</td>\n",
       "      <td>1.0</td>\n",
       "      <td>9</td>\n",
       "    </tr>\n",
       "    <tr>\n",
       "      <th>2236415</th>\n",
       "      <td>8.396255</td>\n",
       "      <td>1.0</td>\n",
       "      <td>9</td>\n",
       "    </tr>\n",
       "  </tbody>\n",
       "</table>\n",
       "<p>22364160 rows × 3 columns</p>\n",
       "</div>"
      ],
      "text/plain": [
       "         parameter_value  label  iteration\n",
       "0              10.177619    1.0          0\n",
       "1              -5.566085    1.0          0\n",
       "2              -4.722335    1.0          0\n",
       "3              -3.051506    1.0          0\n",
       "4              -1.356475    1.0          0\n",
       "...                  ...    ...        ...\n",
       "2236411        -2.269283    1.0          9\n",
       "2236412         3.366333    1.0          9\n",
       "2236413        -5.883651    1.0          9\n",
       "2236414        -7.386290    1.0          9\n",
       "2236415         8.396255    1.0          9\n",
       "\n",
       "[22364160 rows x 3 columns]"
      ]
     },
     "execution_count": 19,
     "metadata": {},
     "output_type": "execute_result"
    }
   ],
   "source": [
    "dfs"
   ]
  },
  {
   "cell_type": "code",
   "execution_count": 22,
   "id": "fe1ca0c3-ee9d-4b9d-a7ca-e46a931df985",
   "metadata": {},
   "outputs": [],
   "source": [
    "# let's compute CoV for each label separately \n",
    "CoV = df.groupby('label').agg(\n",
    "    mean=('parameter_value', 'mean'),\n",
    "    std=('parameter_value', 'std'),\n",
    "    cv=('parameter_value', lambda x: 100*np.std(x, ddof=0) / np.mean(x))\n",
    ").reset_index()\n"
   ]
  },
  {
   "cell_type": "code",
   "execution_count": 23,
   "id": "39a57222-4e35-4d67-9e68-4af14291be80",
   "metadata": {},
   "outputs": [
    {
     "data": {
      "text/html": [
       "<div>\n",
       "<style scoped>\n",
       "    .dataframe tbody tr th:only-of-type {\n",
       "        vertical-align: middle;\n",
       "    }\n",
       "\n",
       "    .dataframe tbody tr th {\n",
       "        vertical-align: top;\n",
       "    }\n",
       "\n",
       "    .dataframe thead th {\n",
       "        text-align: right;\n",
       "    }\n",
       "</style>\n",
       "<table border=\"1\" class=\"dataframe\">\n",
       "  <thead>\n",
       "    <tr style=\"text-align: right;\">\n",
       "      <th></th>\n",
       "      <th>label</th>\n",
       "      <th>mean</th>\n",
       "      <th>std</th>\n",
       "      <th>cv</th>\n",
       "    </tr>\n",
       "  </thead>\n",
       "  <tbody>\n",
       "    <tr>\n",
       "      <th>0</th>\n",
       "      <td>1.0</td>\n",
       "      <td>8.054333</td>\n",
       "      <td>17.752283</td>\n",
       "      <td>220.406554</td>\n",
       "    </tr>\n",
       "  </tbody>\n",
       "</table>\n",
       "</div>"
      ],
      "text/plain": [
       "   label      mean        std          cv\n",
       "0    1.0  8.054333  17.752283  220.406554"
      ]
     },
     "execution_count": 23,
     "metadata": {},
     "output_type": "execute_result"
    }
   ],
   "source": [
    "CoV "
   ]
  },
  {
   "cell_type": "code",
   "execution_count": null,
   "id": "329795fc-b61b-44bf-9ba8-ce5555131e1d",
   "metadata": {},
   "outputs": [],
   "source": []
  }
 ],
 "metadata": {
  "kernelspec": {
   "display_name": "Python (custom env2)",
   "language": "python",
   "name": "myenv"
  },
  "language_info": {
   "codemirror_mode": {
    "name": "ipython",
    "version": 3
   },
   "file_extension": ".py",
   "mimetype": "text/x-python",
   "name": "python",
   "nbconvert_exporter": "python",
   "pygments_lexer": "ipython3",
   "version": "3.8.6"
  }
 },
 "nbformat": 4,
 "nbformat_minor": 5
}
